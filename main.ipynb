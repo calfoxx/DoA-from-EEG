{
 "cells": [
  {
   "cell_type": "code",
   "execution_count": null,
   "metadata": {},
   "outputs": [],
   "source": [
    "from importdata import data\n",
    "from fft import *\n",
    "from mobility import *\n",
    "from permutationentropy import *\n",
    "from utils import *\n",
    "from lempelziv import *\n",
    "from sklearn.metrics import r2_score\n",
    "from sklearn.linear_model import LinearRegression\n",
    "from parameters import *\n",
    "\n",
    "import matplotlib.pyplot as plt\n"
   ]
  },
  {
   "cell_type": "markdown",
   "metadata": {},
   "source": [
    "The BIS data is universally longer than the corresponding EEG data. \n",
    "It is assumed that the recording of the BIS data continued after the recording of the EEG data has stopped.\n",
    "This cell trims the BIS data accordingly."
   ]
  },
  {
   "cell_type": "code",
   "execution_count": null,
   "metadata": {},
   "outputs": [],
   "source": [
    "for case in data:\n",
    "    eeg_duration = case['EEG'].shape[1]/sampling_rate\n",
    "    bis_duration = case['bis'].shape[1]/bis_sampling_rate\n",
    "    difference = bis_duration - eeg_duration\n",
    "    trim_length = int(round(difference * bis_sampling_rate))\n",
    "    case['bis'] = case['bis'][:, : trim_length + 1]\n",
    "    bis_duration = case['bis'].shape[1]/bis_sampling_rate\n",
    "\n"
   ]
  },
  {
   "cell_type": "code",
   "execution_count": null,
   "metadata": {},
   "outputs": [],
   "source": [
    "train_data = data[::2] #select every second case for training\n",
    "test_data = data[1::2] #select every other case for testing\n",
    "\n",
    "    \n",
    "eeg_train_data = [case['EEG'][0] for case in train_data] #converts to single dimension list\n",
    "bis_train_data = [case['bis'][0] for case in train_data]\n",
    "\n",
    "eeg_test_data = [case['EEG'][0] for case in test_data]\n",
    "bis_test_data = [case['bis'][0] for case in train_data]\n",
    "\n",
    "signal_lengths = [len(case) for case in eeg_train_data]\n"
   ]
  },
  {
   "cell_type": "code",
   "execution_count": null,
   "metadata": {},
   "outputs": [],
   "source": [
    "decomposed_eeg_train_data = [fft(case, sampling_rate) for case in eeg_train_data] \n",
    "decomposed_eeg_train_time_domain = convert_decomposed_to_time_domain(decomposed_eeg_train_data) \n",
    "decomposed_eeg_train_time_domain_power = convert_decomposed_amplitude_to_power(decomposed_eeg_train_time_domain) \n",
    "decomposed_eeg_test_data = [fft(case, sampling_rate) for case in eeg_test_data]\n",
    "decomposed_eeg_test_time_domain = convert_decomposed_to_time_domain(decomposed_eeg_test_data)\n",
    "decomposed_eeg_test_time_domain_power = convert_decomposed_amplitude_to_power(decomposed_eeg_test_time_domain)"
   ]
  },
  {
   "cell_type": "code",
   "execution_count": null,
   "metadata": {},
   "outputs": [],
   "source": [
    "mobility_amplitude_array_train = operation_on_multiple_case_data(decomposed_eeg_train_time_domain, calculate_mobility, sampling_rate, signal_lengths, mobility_window_duration, mobility_overlap_fraction)\n",
    "pe_amplitude_array_train = operation_on_multiple_case_data(decomposed_eeg_train_time_domain, PE, sampling_rate, signal_lengths, complexity_features_window, complexity_features_overlap)\n",
    "lzc_amplitude_array_train = operation_on_multiple_case_data(decomposed_eeg_train_time_domain, LZC_single_band, sampling_rate, signal_lengths, complexity_features_window, complexity_features_overlap)\n",
    "\n",
    "mobility_power_array_train = operation_on_multiple_case_data(decomposed_eeg_train_time_domain_power, calculate_mobility, sampling_rate, signal_lengths, mobility_window_duration, mobility_overlap_fraction)\n",
    "pe_power_array_train = operation_on_multiple_case_data(decomposed_eeg_train_time_domain_power, PE, sampling_rate, signal_lengths, complexity_features_window, complexity_features_overlap)\n",
    "lzc_power_array_train = operation_on_multiple_case_data(decomposed_eeg_train_time_domain_power, LZC_single_band, sampling_rate, signal_lengths, complexity_features_window, complexity_features_overlap)"
   ]
  },
  {
   "cell_type": "code",
   "execution_count": null,
   "metadata": {},
   "outputs": [],
   "source": [
    "mobility_amplitude_bis_train_dict = associate_features_with_BIS(mobility_amplitude_array_train, bis_train_data, mobility_window_duration, mobility_overlap_fraction, bis_sampling_rate)\n",
    "mobility_amplitude_train_r2 = linear_regression(mobility_amplitude_bis_train_dict)\n",
    "print(f'mobility amplitude train r2{mobility_amplitude_train_r2}')\n",
    "\n",
    "mobility_power_bis_train_dict = associate_features_with_BIS(mobility_power_array_train, bis_train_data, mobility_window_duration, mobility_overlap_fraction, bis_sampling_rate)\n",
    "mobility_power_train_r2 = linear_regression(mobility_power_bis_train_dict)\n",
    "print(f'mobility power train r2{mobility_power_train_r2}')\n",
    "\n",
    "pe_amplitude_bis_train_dict = associate_features_with_BIS(pe_amplitude_array_train, bis_train_data, complexity_features_window, complexity_features_overlap, bis_sampling_rate)\n",
    "pe_amplitude_train_r2 = linear_regression(pe_amplitude_bis_train_dict)\n",
    "print(f'pe amplitude train r2{pe_amplitude_train_r2}')\n",
    "\n",
    "pe_power_bis_train_dict = associate_features_with_BIS(pe_power_array_train, bis_train_data, complexity_features_window, complexity_features_overlap, bis_sampling_rate)\n",
    "pe_power_train_r2 = linear_regression(pe_power_bis_train_dict)\n",
    "print(f'pe power train r2 {pe_power_train_r2}')\n",
    "\n",
    "lzc_amplitude_bis_train_dict = associate_features_with_BIS(lzc_amplitude_array_train, bis_train_data, complexity_features_window, complexity_features_overlap, bis_sampling_rate)\n",
    "lzc_amplitude_train_r2 = linear_regression(lzc_amplitude_bis_train_dict)\n",
    "print(f'lzc amplitude train r2 {lzc_amplitude_train_r2}')\n",
    "\n",
    "lzc_power_bis_train_dict = associate_features_with_BIS(lzc_power_array_train, bis_train_data, complexity_features_window, complexity_features_overlap, bis_sampling_rate)\n",
    "lzc_power_train_r2 = linear_regression(lzc_power_bis_train_dict)\n",
    "print(f'lzc power train r2 {lzc_power_train_r2}')\n",
    "\n"
   ]
  },
  {
   "cell_type": "code",
   "execution_count": null,
   "metadata": {},
   "outputs": [],
   "source": [
    "r2_mobility = list(mobility_amplitude_train_r2.values()) + list(mobility_power_train_r2.values())\n",
    "frequency_bands_mobility = list(range(1, len(r2_mobility) + 1))\n",
    "\n",
    "plt.plot(frequency_bands_mobility, r2_mobility, marker = 'x')\n",
    "\n",
    "plt.xlabel(\"Serial number of frequency bands\")\n",
    "plt.ylabel(\"R Squared\")\n",
    "plt.title(\"Mobility\")\n",
    "\n",
    "\n",
    "\n"
   ]
  },
  {
   "cell_type": "code",
   "execution_count": null,
   "metadata": {},
   "outputs": [],
   "source": [
    "r2_pe = list(pe_amplitude_train_r2.values()) + list(pe_power_train_r2.values())\n",
    "frequency_bands_pe = list(range(1, len(r2_pe) + 1))\n",
    "\n",
    "plt.plot(frequency_bands_pe, r2_pe, marker = 'x')\n",
    "\n",
    "plt.xlabel(\"Serial number of frequency bands\")\n",
    "plt.ylabel(\"R Squared\")\n",
    "plt.title(\"Permutation Entropy\")"
   ]
  },
  {
   "cell_type": "code",
   "execution_count": null,
   "metadata": {},
   "outputs": [],
   "source": [
    "r2_lzc = list(lzc_amplitude_train_r2.values()) + list(lzc_power_train_r2.values())\n",
    "frequency_bands_lzc = list(range(1, len(r2_lzc) + 1))\n",
    "\n",
    "plt.plot(frequency_bands_lzc, r2_lzc, marker = 'x')\n",
    "\n",
    "plt.xlabel(\"Serial number of frequency bands\")\n",
    "plt.ylabel(\"R Squared\")\n",
    "plt.title(\"Lempel-Ziv Complexity\")"
   ]
  }
 ],
 "metadata": {
  "kernelspec": {
   "display_name": "machine_learning",
   "language": "python",
   "name": "python3"
  },
  "language_info": {
   "codemirror_mode": {
    "name": "ipython",
    "version": 3
   },
   "file_extension": ".py",
   "mimetype": "text/x-python",
   "name": "python",
   "nbconvert_exporter": "python",
   "pygments_lexer": "ipython3",
   "version": "3.11.5"
  },
  "orig_nbformat": 4
 },
 "nbformat": 4,
 "nbformat_minor": 2
}
